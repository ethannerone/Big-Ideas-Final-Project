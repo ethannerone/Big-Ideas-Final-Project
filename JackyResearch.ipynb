{
 "cells": [
  {
   "cell_type": "markdown",
   "metadata": {},
   "source": [
    "# Jacky Ho\n",
    "## Group 50\n",
    "---\n",
    "For our Final Project, we decided to research which Pittsburgh neighborhood is the best to survive the Purge, the fictitious event from the cinematic franchise \"The Purge.\" \n",
    "Essentially, it is a 12 hour event in the United States from 7:00pm to 7:00am where all crime is legal and emergency services (such as ambulances, police and the fire department). Additionally:\n",
    "- Sirens blare throughout the land to signal the start and end of The Purge.\n",
    "- All police, fire, and emergency medical services are suspended for the duration of the Purge.\n",
    "- The president, first family, and government officials of rank 10, are granted immunity from the Purge, meaning that they must not be harmed. (This was revoked in Election Year to permit the murder of a political opponent).\n",
    "- Only Class 1–4 weaponry is permitted, while Class 5 weaponry (such as explosives) is prohibited.\n",
    "- Violations of any Purge rules will result in public execution.\n",
    "And since Pittsburgh is in the United States, our inquiry is which Pittsburghs neighborhood is the best to survive the Purge in?\n",
    "\n",
    "The data set I will be using to reach an answer is:\n",
    "https://data.wprdc.org/dataset/city-of-pittsburgh-facilities\n",
    "This data set lists out all of Pittsburgh's facilities owned by the city.\n",
    "\n",
    "My metric for determining the \"best\" neighborhood will be\n",
    "- Which neighborhood have the most useful facilities that can help an individual during the Purge, either by surviving in hiding, surviving by being prepared or surviving by being protected.\n",
    "\n",
    "To begin this search, I must first determine what type of city facilities exists.\n",
    "\n",
    "---"
   ]
  },
  {
   "cell_type": "markdown",
   "metadata": {},
   "source": [
    "This is the code for importing the necessary python packages for my code, as well as initializing a dataframe from the data set that I will be looking at."
   ]
  },
  {
   "cell_type": "code",
   "execution_count": 6,
   "metadata": {},
   "outputs": [],
   "source": [
    "import matplotlib.pyplot as plt\n",
    "import pandas as pd\n",
    "file_path = \"Final Project/fbb50b02-2879-47cd-abea-ae697ec05170.csv\"\n",
    "data = pd.read_csv(\"fbb50b02-2879-47cd-abea-ae697ec05170.csv\")"
   ]
  },
  {
   "cell_type": "markdown",
   "metadata": {},
   "source": [
    "Below is the code used to get a list of all the possible classifications of a city facility type, sorted alphabetically for convinience."
   ]
  },
  {
   "cell_type": "code",
   "execution_count": 9,
   "metadata": {},
   "outputs": [
    {
     "data": {
      "text/plain": [
       "['Activity',\n",
       " 'Cabin',\n",
       " 'Community',\n",
       " 'Concession',\n",
       " 'Dugout',\n",
       " 'Firehouse',\n",
       " 'Medic Station',\n",
       " 'OFFICE',\n",
       " 'Office',\n",
       " 'POLICE',\n",
       " 'Police',\n",
       " 'Pool',\n",
       " 'Pool Closed',\n",
       " 'Pool/Rec',\n",
       " 'Rec Center',\n",
       " 'Recycling',\n",
       " 'Restrooms',\n",
       " 'SERVICE',\n",
       " 'STORAGE',\n",
       " 'Salt Dome',\n",
       " 'Senior',\n",
       " 'Service',\n",
       " 'Shelter',\n",
       " 'Storage',\n",
       " 'TRAINING',\n",
       " 'Training',\n",
       " 'Utility',\n",
       " 'Vacant']"
      ]
     },
     "execution_count": 9,
     "metadata": {},
     "output_type": "execute_result"
    }
   ],
   "source": [
    "def get_facility_types(df, column_name):\n",
    "    facility_type_list=[]\n",
    "    for index, row in df.iterrows():\n",
    "        facility_type = row[column_name]\n",
    "        if facility_type not in facility_type_list:\n",
    "            facility_type_list.append(facility_type)\n",
    "        facility_type_list.sort()\n",
    "    return facility_type_list\n",
    "get_facility_types(data,\"type\")"
   ]
  },
  {
   "cell_type": "markdown",
   "metadata": {},
   "source": [
    "Below is code to determine how many types of classifications are there"
   ]
  },
  {
   "cell_type": "code",
   "execution_count": 53,
   "metadata": {},
   "outputs": [
    {
     "name": "stdout",
     "output_type": "stream",
     "text": [
      "28\n"
     ]
    }
   ],
   "source": [
    "print(len(get_facility_types(data, \"type\")))"
   ]
  },
  {
   "cell_type": "markdown",
   "metadata": {},
   "source": [
    "Now that we know what type of facilities are out there, we must determine which of them are useful for a survivor during the Purge; in other words, which facilities are the safest, in the sense of which facilities will be less likely to be visited by other people during the purge, or protect them from the outside throughout the night.\n",
    "\n",
    "Essentially, we will be adding weight assignation to each of the types:\n",
    "\n",
    "|Score|Safety rating|\n",
    "|---|---|\n",
    "|0|Absolutely not safe at all|\n",
    "|1|Depends, can be safe|\n",
    "|2|Mostly safe|\n",
    "|3| Absolute safest|\n",
    "\n",
    "This metric is mostly ambiguous but my reasoning is based on common sense as much as possible\n",
    "\n",
    "|Assigned score|Facility type|Reason|\n",
    "|---|---|---|\n",
    "|0| Activity|These are essentially facilities where individuals gather for activities. Where there is something to do, there is equipment to be able to do those activities, hence objects that can be stolen.\n",
    "|1| Cabin|These are abandoned, historical cabins that were purchased by the city to preserve their condition due to their historical significance. The problem is that these are public attractions, which are very accessible to the public, a trait that might still be applied during the Purge. However, they could remain unvisited by others because these types of buildings do not hold or store items of value for thieves to seek.\n",
    "|1| Community|Community centers are architecturally designed to be as welcoming and open to the public in order to fester a community, which would make it easier for malicious people to breach or attack during the purge. However, if the community that calls this center home is a strong and moral one, they might use the center as a stronghold for community members to hold out by working together. Albeit the later really depends on the community and is not guaranteed, hence the '1' score.\n",
    "|0| Concession| These are simple food trucks, carts and stands that offer no secure shelter.\n",
    "|0| Dugout| These are baseball fields, which are known for being open, flat, with not-much cover for people looking to use as shelter.\n",
    "|3| Firehouse| These are fire departments, which are architecturally guarded against disasters, and secure enough to prevent intruders from stealing their equipment. Therefore, any hooligan looking to burn or throw explosive at the facility will struggle, keeping survivors inside secure.\n",
    "|3| Medic Station|According to The Purge TV show, there is lore that indicates medical staff at such facilities sign waivers that waive their right to participate in the Purge, therefore any survivor looking to take shelter will not have to fear being attacked by the medical staff, however a lot of medical stations employ security forces, which might or might not let you in. It is generally a safe bet to find yourself in a medical station in the purge.\n",
    "|0| Office OFFICE| These are simple white-collar offices, offering no protection, and might be targeted by rival corporations to steal trade-secrets and the like.\n",
    "|3| Police/POLICE| Same reasons as a firestation, but they also have an armory, with which a survivor can arm themselves for self-defence.\n",
    "|0| Pool/Pool Closed| Swimming pools offer no protection.\n",
    "|0| Pool/Rec| Recreation swimming pools offer no protection and might be ransacted for recreational equipment.\n",
    "|0| Rec Center| Recreational centers have the same reason as Activity type facilities.\n",
    "|3| Recycling| Recycling facilities are actually goated to hide during the Purge because no-one would think to raid a recycling facility because there usually isn't anything of value stored inside.\n",
    "|1| Restrooms| Public bathrooms are relatively unsafe because even malicious people might require a bathroom stop during the purge, however, some restrooms are rated to be disaster-proof, which might be safe if you can find one.\n",
    "|2| Salt Dome| These are storage facilities for the saltpepper used to defrost roads during winter. Relatively safe because won't raid a storage facility for salt, however, can still be attacked for the special-purpose vehicles used to salt the roads.\n",
    "|1| Senior| These are housing where elders reside or retire to. From one perspective, old people are not as harmless, however, these facilities aren't necessarily secure.\n",
    "|2| Service/SERVICE| These are offices and storage facilities for equipment the city uses to service maintenance around the city. Relatively safe if you can hide in a storage facility but some of these store valuable equipment that might be targeted by raids.\n",
    "|3| Shelter| These are disaster-proof shelters designed to survive most disasters, even nuclear blasts. Such facilities will definitely protect you from all sorts of attacks during the Purge\n",
    "|2| Storage/STORAGE| Same as service; some storages might store objects no-one wants and some do.\n",
    "|2| Training/TRAINING| These are training facilities for government workers, which wouldn't be at the top of the list for people to raid during the purge, but can house valuable equipment.\n",
    "|2| Utility| Same as service\n",
    "|3| Vacant|Abandoned homes or facilities won't be targeted by people because as a vacant house, there is nothing inside to steal.\n",
    "\n",
    "Below is a dictionary of each type and their respective weight"
   ]
  },
  {
   "cell_type": "code",
   "execution_count": 8,
   "metadata": {},
   "outputs": [],
   "source": [
    "weighted_types={'Activity': 0,\n",
    "                'Cabin': 1,\n",
    "                'Community': 1,\n",
    "                'Concession': 0,\n",
    "                'Dugout': 0,\n",
    "                'Firehouse': 3,\n",
    "                'Medic Station': 3,\n",
    "                'OFFICE': 0,\n",
    "                'Office': 0,\n",
    "                'POLICE': 3,\n",
    "                'Police': 3,\n",
    "                'Pool': 0,\n",
    "                'Pool Closed': 0,\n",
    "                'Pool/Rec': 0,\n",
    "                'Rec Center': 0,\n",
    "                'Recycling': 3,\n",
    "                'Restrooms': 1,\n",
    "                'SERVICE': 2,\n",
    "                'STORAGE': 2,\n",
    "                'Salt Dome': 2,\n",
    "                'Senior': 1,\n",
    "                'Service': 2,\n",
    "                'Shelter': 3,\n",
    "                'Storage': 2,\n",
    "                'TRAINING': 2,\n",
    "                'Training': 2,\n",
    "                'Utility': 2,\n",
    "                'Vacant': 3}"
   ]
  },
  {
   "cell_type": "markdown",
   "metadata": {},
   "source": [
    "The code below creates a list of neighborhoods."
   ]
  },
  {
   "cell_type": "code",
   "execution_count": 10,
   "metadata": {},
   "outputs": [
    {
     "data": {
      "text/plain": [
       "['Allegheny Center',\n",
       " 'Allegheny West',\n",
       " 'Allentown',\n",
       " 'Banksville',\n",
       " 'Bedford Dwellings',\n",
       " 'Beechview',\n",
       " 'Beltzhoover',\n",
       " 'Bloomfield',\n",
       " 'Bluff',\n",
       " 'Bon Air',\n",
       " 'Brighton Heights',\n",
       " 'Brookline',\n",
       " 'California-Kirkbride',\n",
       " 'Carrick',\n",
       " 'Central Business District',\n",
       " 'Central Lawrenceville',\n",
       " 'Central Northside',\n",
       " 'Central Oakland',\n",
       " 'Chateau',\n",
       " 'Crafton Heights',\n",
       " 'Crawford-Roberts',\n",
       " 'Duquesne Heights',\n",
       " 'East Allegheny',\n",
       " 'East Hills',\n",
       " 'East Liberty',\n",
       " 'Elliott',\n",
       " 'Fairywood',\n",
       " 'Fineview',\n",
       " 'Garfield',\n",
       " 'Glen Hazel',\n",
       " 'Greenfield',\n",
       " 'Hays',\n",
       " 'Hazelwood',\n",
       " 'Highland Park',\n",
       " 'Homewood North',\n",
       " 'Homewood South',\n",
       " 'Homewood West',\n",
       " 'Knoxville',\n",
       " 'Larimer',\n",
       " 'Lincoln Place',\n",
       " 'Lincoln-Lemington-Belmar',\n",
       " 'Lower Lawrenceville',\n",
       " 'Manchester',\n",
       " 'Marshall-Shadeland',\n",
       " 'Middle Hill',\n",
       " 'Morningside',\n",
       " 'Mount Washington',\n",
       " 'North Oakland',\n",
       " 'Oakwood',\n",
       " 'Overbrook',\n",
       " 'Perry North',\n",
       " 'Perry South',\n",
       " 'Point Breeze',\n",
       " 'Point Breeze North',\n",
       " 'Polish Hill',\n",
       " 'Regent Square',\n",
       " 'Shadyside',\n",
       " 'Sheraden',\n",
       " 'South Oakland',\n",
       " 'South Side Flats',\n",
       " 'South Side Slopes',\n",
       " 'Spring Hill-City View',\n",
       " 'Squirrel Hill North',\n",
       " 'Squirrel Hill South',\n",
       " 'Stanton Heights',\n",
       " 'Strip District',\n",
       " 'Swisshelm Park',\n",
       " 'Terrace Village',\n",
       " 'Troy Hill',\n",
       " 'Upper Hill',\n",
       " 'Upper Lawrenceville',\n",
       " 'West End',\n",
       " 'West Oakland',\n",
       " 'Westwood',\n",
       " 'Windgap']"
      ]
     },
     "execution_count": 10,
     "metadata": {},
     "output_type": "execute_result"
    }
   ],
   "source": [
    "def get_neighborhoods(df, column_name):\n",
    "    neighborhoods=[]\n",
    "    for index, row in df.iterrows():\n",
    "        item = row[column_name]\n",
    "        if item not in neighborhoods:\n",
    "            neighborhoods.append(item)\n",
    "        cleanedList = [x for x in neighborhoods if str(x) != 'nan']\n",
    "        cleanedList.sort()\n",
    "    return cleanedList\n",
    "get_neighborhoods(data,\"neighborhood\")"
   ]
  },
  {
   "cell_type": "markdown",
   "metadata": {},
   "source": [
    "The code below counts how many neighborhoods the data set dealt with"
   ]
  },
  {
   "cell_type": "code",
   "execution_count": 56,
   "metadata": {},
   "outputs": [
    {
     "name": "stdout",
     "output_type": "stream",
     "text": [
      "75\n"
     ]
    }
   ],
   "source": [
    "print(len(get_neighborhoods(data,\"neighborhood\")))"
   ]
  },
  {
   "cell_type": "markdown",
   "metadata": {},
   "source": [
    "The code below can count how many of each type of facility a specified neighborhood has"
   ]
  },
  {
   "cell_type": "code",
   "execution_count": 11,
   "metadata": {},
   "outputs": [
    {
     "data": {
      "text/plain": [
       "{'Service': 4,\n",
       " 'Storage': 3,\n",
       " 'Shelter': 10,\n",
       " 'Activity': 1,\n",
       " 'Cabin': 1,\n",
       " 'Pool': 1,\n",
       " 'Restrooms': 1,\n",
       " 'Police': 1,\n",
       " 'Training': 1,\n",
       " 'Utility': 1,\n",
       " 'STORAGE': 3,\n",
       " 'TRAINING': 2,\n",
       " 'OFFICE': 1}"
      ]
     },
     "execution_count": 11,
     "metadata": {},
     "output_type": "execute_result"
    }
   ],
   "source": [
    "def get_type_count(df, neighborhood):\n",
    "    values = {}\n",
    "    for index, row in df.iterrows():\n",
    "        if row[\"neighborhood\"] == neighborhood:\n",
    "            value = row[\"type\"]\n",
    "            if isinstance(value, str):\n",
    "                if value not in values:\n",
    "                    values[value] = 1\n",
    "                else:\n",
    "                    values[value] += 1\n",
    "    return values\n",
    "get_type_count(data, \"Highland Park\")"
   ]
  },
  {
   "cell_type": "markdown",
   "metadata": {},
   "source": [
    "The code below counts the weighted value of how many of each type of facility a specified neighborhood has."
   ]
  },
  {
   "cell_type": "code",
   "execution_count": 12,
   "metadata": {},
   "outputs": [
    {
     "data": {
      "text/plain": [
       "{'Service': 8,\n",
       " 'Storage': 6,\n",
       " 'Shelter': 30,\n",
       " 'Activity': 0,\n",
       " 'Cabin': 1,\n",
       " 'Pool': 0,\n",
       " 'Restrooms': 1,\n",
       " 'Police': 3,\n",
       " 'Training': 2,\n",
       " 'Utility': 2,\n",
       " 'STORAGE': 6,\n",
       " 'TRAINING': 4,\n",
       " 'OFFICE': 0}"
      ]
     },
     "execution_count": 12,
     "metadata": {},
     "output_type": "execute_result"
    }
   ],
   "source": [
    "def get_type_value(df, neighborhood):\n",
    "    values = {}\n",
    "    for index, row in df.iterrows():\n",
    "        if row[\"neighborhood\"] == neighborhood:\n",
    "            value = row[\"type\"]\n",
    "            if isinstance(value, str):\n",
    "                if value not in values:\n",
    "                    weight=weighted_types.get(value)\n",
    "                    values[value] = weight\n",
    "                else:\n",
    "                    weight=weighted_types.get(value)\n",
    "                    values[value] += weight\n",
    "    return values\n",
    "get_type_value(data, \"Highland Park\")"
   ]
  },
  {
   "cell_type": "markdown",
   "metadata": {},
   "source": [
    "The code below counts the worth of a specified neighborhood with the weight of each type of facility and how many of each it has. The worth is a sum"
   ]
  },
  {
   "cell_type": "code",
   "execution_count": 13,
   "metadata": {},
   "outputs": [
    {
     "data": {
      "text/plain": [
       "37"
      ]
     },
     "execution_count": 13,
     "metadata": {},
     "output_type": "execute_result"
    }
   ],
   "source": [
    "def get_neighborhood_value(df, neighborhood):\n",
    "    values = {}\n",
    "    worth=0\n",
    "    for index, row in df.iterrows():\n",
    "        if row[\"neighborhood\"] == neighborhood:\n",
    "            value = row[\"type\"]\n",
    "            if isinstance(value, str):\n",
    "                if value not in values:\n",
    "                    weight=weighted_types.get(value)\n",
    "                    worth += weight\n",
    "                else:\n",
    "                    weight=weighted_types.get(value)\n",
    "                    worth += weight\n",
    "    return worth\n",
    "get_neighborhood_value(data, \"Perry North\")"
   ]
  },
  {
   "cell_type": "markdown",
   "metadata": {},
   "source": [
    "The code below counts the worth of every neighborhood."
   ]
  },
  {
   "cell_type": "code",
   "execution_count": 14,
   "metadata": {},
   "outputs": [
    {
     "data": {
      "text/plain": [
       "{'Allegheny Center': 2,\n",
       " 'Allegheny West': 5,\n",
       " 'Allentown': 6,\n",
       " 'Banksville': 5,\n",
       " 'Bedford Dwellings': 0,\n",
       " 'Beechview': 7,\n",
       " 'Beltzhoover': 8,\n",
       " 'Bloomfield': 7,\n",
       " 'Bluff': 6,\n",
       " 'Bon Air': 3,\n",
       " 'Brighton Heights': 12,\n",
       " 'Brookline': 14,\n",
       " 'California-Kirkbride': 3,\n",
       " 'Carrick': 5,\n",
       " 'Central Business District': 8,\n",
       " 'Central Lawrenceville': 1,\n",
       " 'Central Northside': 0,\n",
       " 'Central Oakland': 3,\n",
       " 'Chateau': 5,\n",
       " 'Crafton Heights': 1,\n",
       " 'Crawford-Roberts': 8,\n",
       " 'Duquesne Heights': 4,\n",
       " 'East Allegheny': 3,\n",
       " 'East Hills': 5,\n",
       " 'East Liberty': 7,\n",
       " 'Elliott': 17,\n",
       " 'Fairywood': 0,\n",
       " 'Fineview': 3,\n",
       " 'Garfield': 5,\n",
       " 'Glen Hazel': 1,\n",
       " 'Greenfield': 6,\n",
       " 'Hays': 6,\n",
       " 'Hazelwood': 23,\n",
       " 'Highland Park': 63,\n",
       " 'Homewood North': 1,\n",
       " 'Homewood South': 3,\n",
       " 'Homewood West': 12,\n",
       " 'Knoxville': 9,\n",
       " 'Larimer': 3,\n",
       " 'Lincoln Place': 8,\n",
       " 'Lincoln-Lemington-Belmar': 17,\n",
       " 'Lower Lawrenceville': 6,\n",
       " 'Manchester': 5,\n",
       " 'Marshall-Shadeland': 6,\n",
       " 'Middle Hill': 3,\n",
       " 'Morningside': 8,\n",
       " 'Mount Washington': 13,\n",
       " 'North Oakland': 6,\n",
       " 'Oakwood': 4,\n",
       " 'Overbrook': 2,\n",
       " 'Perry North': 37,\n",
       " 'Perry South': 5,\n",
       " 'Point Breeze': 11,\n",
       " 'Point Breeze North': 0,\n",
       " 'Polish Hill': 2,\n",
       " 'Regent Square': 4,\n",
       " 'Shadyside': 12,\n",
       " 'Sheraden': 10,\n",
       " 'South Oakland': 2,\n",
       " 'South Side Flats': 5,\n",
       " 'South Side Slopes': 14,\n",
       " 'Spring Hill-City View': 5,\n",
       " 'Squirrel Hill North': 12,\n",
       " 'Squirrel Hill South': 49,\n",
       " 'Stanton Heights': 3,\n",
       " 'Strip District': 23,\n",
       " 'Swisshelm Park': 3,\n",
       " 'Terrace Village': 4,\n",
       " 'Troy Hill': 3,\n",
       " 'Upper Hill': 1,\n",
       " 'Upper Lawrenceville': 2,\n",
       " 'West End': 4,\n",
       " 'West Oakland': 3,\n",
       " 'Westwood': 5,\n",
       " 'Windgap': 5,\n",
       " nan: 3}"
      ]
     },
     "execution_count": 14,
     "metadata": {},
     "output_type": "execute_result"
    }
   ],
   "source": [
    "def get_worth_values(df):\n",
    "    values = dict.fromkeys(get_neighborhoods(data,\"neighborhood\"), 0)\n",
    "    for index, row in df.iterrows():\n",
    "        item = row[\"neighborhood\"]\n",
    "        if item not in values:\n",
    "            values[item] = 0\n",
    "        if isinstance(row[\"type\"], str):\n",
    "            weight=weighted_types.get(row[\"type\"])\n",
    "            values[item] += weight\n",
    "    return values\n",
    "get_worth_values(data)"
   ]
  },
  {
   "cell_type": "markdown",
   "metadata": {},
   "source": [
    "This is the code for plotting my findings to a bar plot, which helps quantify which neighborhood is the \"best\" to survive the Purge"
   ]
  },
  {
   "cell_type": "code",
   "execution_count": 18,
   "metadata": {},
   "outputs": [
    {
     "data": {
      "image/png": "[encoded data removed]",
      "text/plain": [
       "<Figure size 1440x720 with 1 Axes>"
      ]
     },
     "metadata": {
      "needs_background": "light"
     },
     "output_type": "display_data"
    }
   ],
   "source": [
    "raw = get_worth_values(data)\n",
    "names = list(raw.keys())\n",
    "values = list(raw.values())\n",
    "\n",
    "f, ax = plt.subplots(figsize=(20,10))\n",
    "plt.bar(range(len(raw)), values, tick_label=names)\n",
    "ax.tick_params(axis='x', labelrotation = 90)\n",
    "plt.rcParams[\"axes.grid.axis\"]=\"y\"\n",
    "plt.xlabel(\"Pittsburgh Neighborhoods\")\n",
    "plt.ylabel(\"Weighted worth of valuable city facilities\")\n",
    "plt.title(\"Quantification of 'best' Pittsburgh neighborhoods to survive the Purge\")\n",
    "plt.show()"
   ]
  },
  {
   "cell_type": "markdown",
   "metadata": {},
   "source": [
    "---\n",
    "# Conclusion\n",
    "Based on my findings, the top 5 neighborhoods to survive the purge by the metric of having the most useful city facilities are:\n",
    "\n",
    "|Rank|Neighborhood|Weighted worth (Higher is better)|\n",
    "|---|---|---|\n",
    "|1st|Highland Park|63|\n",
    "|2nd|Squirrel Hill South|49|\n",
    "|3rd|Perry North|37|\n",
    "|4th|Hazelwood|23|\n",
    "|5th|Strip District|23|\n",
    "\n",
    "Although realistically, you'd only \"hide\" or in one government facility throughout the purge, in the dreaded scenario where your selected facility is compromised, being in a neighborhood with a higher number of safe city facilities (worth) means that there are close alternatives to run to as a back-up shelter:\n",
    "## Reasoning\n",
    "**The more safe facilities -> The denser the distribution of them -> The less distance between them -> Less time spent outside -> Higher chance of survival**\n"
   ]
  },
  {
   "cell_type": "markdown",
   "metadata": {},
   "source": [
    "So if you want the highest chance of surviving the purge, Highland Park is the best, even having the most number of shelters at 30."
   ]
  }
 ],
 "metadata": {
  "kernelspec": {
   "display_name": "Python 3",
   "language": "python",
   "name": "python3"
  },
  "language_info": {
   "codemirror_mode": {
    "name": "ipython",
    "version": 3
   },
   "file_extension": ".py",
   "mimetype": "text/x-python",
   "name": "python",
   "nbconvert_exporter": "python",
   "pygments_lexer": "ipython3",
   "version": "3.8.3"
  }
 },
 "nbformat": 4,
 "nbformat_minor": 4
}

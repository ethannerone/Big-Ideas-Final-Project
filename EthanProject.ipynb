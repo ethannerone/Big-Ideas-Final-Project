{
 "cells": [
  {
   "cell_type": "markdown",
   "metadata": {},
   "source": [
    "Ethan Nerone -ETN8 4464088\n",
    "\n",
    "in my part of the project i took the number of grocery stores. in a neighborhood and matched it with the number of people in that neighborhood. this, in effect, gives a supply to people ratio."
   ]
  },
  {
   "cell_type": "code",
   "execution_count": 2,
   "metadata": {},
   "outputs": [
    {
     "name": "stdout",
     "output_type": "stream",
     "text": [
      "this is a list of the best neighbor hoods to survive a purge: ['Allegheny West', 'Bloomfield', 'East Liberty', 'Lower Lawrenceville', 'North Oakland', 'South Oakland', 'South Side Flats', 'Strip District']\n"
     ]
    }
   ],
   "source": [
    "import pandas as pd\n",
    "\n",
    "chip = pd.read_csv(\"stores.tsv\", sep=\"\\t\")\n",
    "chip.head()\n",
    "\n",
    "chip2 = pd.read_csv(\"population.tsv\", sep=\"\\t\")\n",
    "chip2.head()\n",
    "\n",
    "goodneighborhoods=[]\n",
    "storespercounty=chip['neighborhood']\n",
    "peopleNeighborhood=chip2['Neighborhood']\n",
    "peopleperneighborhood=chip2['Estimate; Total']\n",
    "numstores=[]\n",
    "counties=[]\n",
    "\n",
    "for county in peopleNeighborhood:\n",
    "    number=0;\n",
    "    counties.append(county)\n",
    "    for item in storespercounty:\n",
    "        if item == county:\n",
    "            number+=1\n",
    "    numstores.append(number)\n",
    "    \n",
    "\n",
    "i=0\n",
    "    \n",
    "for item in peopleperneighborhood:\n",
    "    if item<10000 and numstores[i]>10:\n",
    "        goodneighborhoods.append(counties[i])\n",
    "    i+=1\n",
    "\n",
    "print(\"this is a list of the best neighbor hoods to survive a purge:\",goodneighborhoods)"
   ]
  },
  {
   "cell_type": "markdown",
   "metadata": {},
   "source": [
    "in conclusion these are the best neighborhooods to survive a purge. Of which the strip district is the best. having only 747 residents as per 2010 and having over 20 stores. allegheny west is not viable because it is part of downtown."
   ]
  }
 ],
 "metadata": {
  "kernelspec": {
   "display_name": "Python 3",
   "language": "python",
   "name": "python3"
  },
  "language_info": {
   "codemirror_mode": {
    "name": "ipython",
    "version": 3
   },
   "file_extension": ".py",
   "mimetype": "text/x-python",
   "name": "python",
   "nbconvert_exporter": "python",
   "pygments_lexer": "ipython3",
   "version": "3.8.3"
  }
 },
 "nbformat": 4,
 "nbformat_minor": 4
}
